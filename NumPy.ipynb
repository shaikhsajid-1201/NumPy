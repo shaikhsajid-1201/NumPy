{
 "cells": [
  {
   "cell_type": "markdown",
   "id": "7adae2bb-0bdc-4007-8686-78d440a9854f",
   "metadata": {},
   "source": [
    "# NumPy Tutorial"
   ]
  },
  {
   "cell_type": "code",
   "execution_count": 1,
   "id": "63f46571-c1bc-4e45-8e11-b5a6eb18e4a5",
   "metadata": {},
   "outputs": [],
   "source": [
    "import numpy as np"
   ]
  },
  {
   "cell_type": "code",
   "execution_count": 2,
   "id": "7ff0ad62-bffd-46e4-9319-19729f6dd538",
   "metadata": {},
   "outputs": [],
   "source": [
    "# Creating NumPy Arrays\n",
    "# create array using python list and tuple\n",
    "mylistarr = np.array([1,2,3,4,5])"
   ]
  },
  {
   "cell_type": "code",
   "execution_count": 3,
   "id": "9b4fd990-5bd1-45ea-a338-88d34c6e8a7b",
   "metadata": {},
   "outputs": [],
   "source": [
    "mytuplearr = np.array((2,4,32,4,51))"
   ]
  },
  {
   "cell_type": "code",
   "execution_count": 4,
   "id": "242379e1-e7cc-4b93-a0db-0501e22f0feb",
   "metadata": {},
   "outputs": [],
   "source": [
    "# Intrinsic NumPy array creation functions (e.g. arange, ones, zeros, etc.)\n",
    "# 1D array\n",
    "zeros_1d = np.zeros(4) \n",
    "one_1d = np.ones(5)\n",
    "range_1d = np.arange(10)\n",
    "lspace = np.linspace(1,4,8)\n",
    "emp = np.empty(10)\n",
    "emp_like = np.empty_like(zeros_1d)"
   ]
  },
  {
   "cell_type": "code",
   "execution_count": 5,
   "id": "99576ef4-496b-4e96-ac63-9e5717ed1f48",
   "metadata": {},
   "outputs": [],
   "source": [
    "# 2D array\n",
    "zeros_2d = np.zeros((3,4)) \n",
    "one_2d = np.ones((5,2))\n",
    "eye = np.eye(3)\n",
    "eye_2d = np.eye(2,3)"
   ]
  },
  {
   "cell_type": "markdown",
   "id": "f5805065-25ca-4b2e-980e-e7cf02075835",
   "metadata": {},
   "source": [
    "# Tutorial NumPy Function & Attributes"
   ]
  },
  {
   "cell_type": "code",
   "execution_count": 6,
   "id": "8206ca08-ad6e-4ff4-b6ca-cdefd6bf43cd",
   "metadata": {},
   "outputs": [],
   "source": [
    "# Tutorial (NumPy Functions & Attributes)\n",
    "arr = np.arange(99)"
   ]
  },
  {
   "cell_type": "code",
   "execution_count": 7,
   "id": "bd390860-a620-4e65-b17a-99d39a14596f",
   "metadata": {},
   "outputs": [],
   "source": [
    "# reshape (Convert into 2D array)\n",
    "arr = arr.reshape(3,33)"
   ]
  },
  {
   "cell_type": "code",
   "execution_count": 8,
   "id": "c293b5e9-a92c-4af8-a0d9-038c0379ca98",
   "metadata": {},
   "outputs": [
    {
     "data": {
      "text/plain": [
       "99"
      ]
     },
     "execution_count": 8,
     "metadata": {},
     "output_type": "execute_result"
    }
   ],
   "source": [
    "# Check the size of the element\n",
    "arr.size"
   ]
  },
  {
   "cell_type": "code",
   "execution_count": 9,
   "id": "9f7e2b2a-f333-4e59-9acf-07f6b39a0d94",
   "metadata": {},
   "outputs": [
    {
     "data": {
      "text/plain": [
       "(3, 33)"
      ]
     },
     "execution_count": 9,
     "metadata": {},
     "output_type": "execute_result"
    }
   ],
   "source": [
    "# Check the shape (rows and columns of an array)\n",
    "arr.shape"
   ]
  },
  {
   "cell_type": "code",
   "execution_count": 10,
   "id": "ae0dcb1e-80f2-467b-add2-d090af78e7e0",
   "metadata": {},
   "outputs": [
    {
     "data": {
      "text/plain": [
       "array([ 0,  1,  2,  3,  4,  5,  6,  7,  8,  9, 10, 11, 12, 13, 14, 15, 16,\n",
       "       17, 18, 19, 20, 21, 22, 23, 24, 25, 26, 27, 28, 29, 30, 31, 32, 33,\n",
       "       34, 35, 36, 37, 38, 39, 40, 41, 42, 43, 44, 45, 46, 47, 48, 49, 50,\n",
       "       51, 52, 53, 54, 55, 56, 57, 58, 59, 60, 61, 62, 63, 64, 65, 66, 67,\n",
       "       68, 69, 70, 71, 72, 73, 74, 75, 76, 77, 78, 79, 80, 81, 82, 83, 84,\n",
       "       85, 86, 87, 88, 89, 90, 91, 92, 93, 94, 95, 96, 97, 98])"
      ]
     },
     "execution_count": 10,
     "metadata": {},
     "output_type": "execute_result"
    }
   ],
   "source": [
    "# Convert array into orignal form\n",
    "arr.ravel()"
   ]
  },
  {
   "cell_type": "code",
   "execution_count": 11,
   "id": "25e68861-eaac-4799-b950-b46529b9ad45",
   "metadata": {},
   "outputs": [],
   "source": [
    "# Reshape is used to convert array in 2d or 3d form whereas ravel() is used to retain the orignal form of an array."
   ]
  },
  {
   "cell_type": "markdown",
   "id": "2cb18a07-d84a-416a-adf6-2109996fa491",
   "metadata": {},
   "source": [
    "# NumPy AXIS (2d array)"
   ]
  },
  {
   "cell_type": "code",
   "execution_count": 12,
   "id": "11499bb7-80a1-4185-8e3a-7afceb5c9f73",
   "metadata": {},
   "outputs": [],
   "source": [
    "# axis0 == rows and axis1 == columns\n",
    "\n",
    "arr_2d = [[1,2,3],[4,5,6],[7,1,0]]\n",
    "arr = np.array(arr_2d)"
   ]
  },
  {
   "cell_type": "code",
   "execution_count": 13,
   "id": "fb38eb3f-f1a9-4423-bd64-95cefd2a8b65",
   "metadata": {},
   "outputs": [
    {
     "data": {
      "text/plain": [
       "array([[1, 2, 3],\n",
       "       [4, 5, 6],\n",
       "       [7, 1, 0]])"
      ]
     },
     "execution_count": 13,
     "metadata": {},
     "output_type": "execute_result"
    }
   ],
   "source": [
    "arr"
   ]
  },
  {
   "cell_type": "code",
   "execution_count": 14,
   "id": "033a5e29-a541-472c-ac1d-f04ab1315375",
   "metadata": {},
   "outputs": [
    {
     "data": {
      "text/plain": [
       "array([12,  8,  9])"
      ]
     },
     "execution_count": 14,
     "metadata": {},
     "output_type": "execute_result"
    }
   ],
   "source": [
    "# Sum of axis 0 (rows)\n",
    "arr.sum(axis=0)"
   ]
  },
  {
   "cell_type": "code",
   "execution_count": 15,
   "id": "7c7cb6d6-205b-4d32-9926-3efd78dc692b",
   "metadata": {},
   "outputs": [
    {
     "data": {
      "text/plain": [
       "array([ 6, 15,  8])"
      ]
     },
     "execution_count": 15,
     "metadata": {},
     "output_type": "execute_result"
    }
   ],
   "source": [
    "# Sum of axis 1 (columns)\n",
    "arr.sum(axis=1)"
   ]
  },
  {
   "cell_type": "code",
   "execution_count": 16,
   "id": "0ddc56cd-3d17-4cdf-aefd-d41eaaae2b0c",
   "metadata": {},
   "outputs": [],
   "source": [
    "# np.T == Transpose (It means rows become column and column becomes row)\n",
    "arr_t = arr.T"
   ]
  },
  {
   "cell_type": "code",
   "execution_count": 17,
   "id": "ef430621-433f-4371-837b-d402e0b00fed",
   "metadata": {},
   "outputs": [
    {
     "data": {
      "text/plain": [
       "2"
      ]
     },
     "execution_count": 17,
     "metadata": {},
     "output_type": "execute_result"
    }
   ],
   "source": [
    "# To check the number of dimensions use ndim\n",
    "arr.ndim"
   ]
  },
  {
   "cell_type": "code",
   "execution_count": 18,
   "id": "7b6db3d7-b40a-41a4-bddc-db9e0ddeb7ff",
   "metadata": {},
   "outputs": [
    {
     "name": "stdout",
     "output_type": "stream",
     "text": [
      "1\n",
      "2\n",
      "3\n",
      "4\n",
      "5\n",
      "6\n",
      "7\n",
      "1\n",
      "0\n"
     ]
    }
   ],
   "source": [
    "# To iterate over array use flat method\n",
    "for i in arr.flat:\n",
    "    print(i)"
   ]
  },
  {
   "cell_type": "code",
   "execution_count": 19,
   "id": "32d9c91d-9e08-4df5-bfb1-6c9358459472",
   "metadata": {},
   "outputs": [],
   "source": [
    "# Some Important Functions argmax() & argmin() give minimun and maximun element index.\n",
    "one = np.array([242,12,43,567,1])"
   ]
  },
  {
   "cell_type": "code",
   "execution_count": 20,
   "id": "ebce326b-a751-43f2-81a2-1730746959fe",
   "metadata": {},
   "outputs": [
    {
     "data": {
      "text/plain": [
       "3"
      ]
     },
     "execution_count": 20,
     "metadata": {},
     "output_type": "execute_result"
    }
   ],
   "source": [
    "one.argmax()"
   ]
  },
  {
   "cell_type": "code",
   "execution_count": 21,
   "id": "ef089995-97e1-4dc7-bfc3-5e64014f5922",
   "metadata": {},
   "outputs": [
    {
     "data": {
      "text/plain": [
       "4"
      ]
     },
     "execution_count": 21,
     "metadata": {},
     "output_type": "execute_result"
    }
   ],
   "source": [
    "one.argmin()"
   ]
  },
  {
   "cell_type": "code",
   "execution_count": 22,
   "id": "9c7e0bdd-cb7f-48b4-a8cd-aa623e02d3cb",
   "metadata": {},
   "outputs": [
    {
     "data": {
      "text/plain": [
       "array([4, 1, 2, 0, 3])"
      ]
     },
     "execution_count": 22,
     "metadata": {},
     "output_type": "execute_result"
    }
   ],
   "source": [
    "# argsort() is used to give details about how an element should written to be sorted\n",
    "one.argsort()"
   ]
  },
  {
   "cell_type": "code",
   "execution_count": 23,
   "id": "7c4699da-b657-47ba-926a-91219af42dca",
   "metadata": {},
   "outputs": [
    {
     "data": {
      "text/plain": [
       "array([[1, 2, 3],\n",
       "       [4, 5, 6],\n",
       "       [7, 1, 0]])"
      ]
     },
     "execution_count": 23,
     "metadata": {},
     "output_type": "execute_result"
    }
   ],
   "source": [
    "# Same functions with 2d array\n",
    "arr"
   ]
  },
  {
   "cell_type": "code",
   "execution_count": 24,
   "id": "2a26d4cd-1272-4286-94f2-94758cf4c492",
   "metadata": {},
   "outputs": [
    {
     "data": {
      "text/plain": [
       "array([2, 1, 1])"
      ]
     },
     "execution_count": 24,
     "metadata": {},
     "output_type": "execute_result"
    }
   ],
   "source": [
    "arr.argmax(axis=0)"
   ]
  },
  {
   "cell_type": "markdown",
   "id": "2468e7b0-2239-4129-92be-3cb43f3fdad8",
   "metadata": {},
   "source": [
    "# Basic Math Operation"
   ]
  },
  {
   "cell_type": "code",
   "execution_count": 25,
   "id": "bb334e2c-c280-4d27-aaef-ac5834000e6f",
   "metadata": {},
   "outputs": [],
   "source": [
    "arr_1 = np.array([1,2,3,45,99])\n",
    "arr_2 = np.array([2,5,6,55,1])"
   ]
  },
  {
   "cell_type": "code",
   "execution_count": 26,
   "id": "7995da47-a663-4b3e-872f-4654ec8bd13c",
   "metadata": {},
   "outputs": [
    {
     "data": {
      "text/plain": [
       "array([  3,   7,   9, 100, 100])"
      ]
     },
     "execution_count": 26,
     "metadata": {},
     "output_type": "execute_result"
    }
   ],
   "source": [
    "# Addition of two array elements\n",
    "arr_1 + arr_2"
   ]
  },
  {
   "cell_type": "code",
   "execution_count": 27,
   "id": "d9721998-57f3-43cc-981d-f2098ffeb79a",
   "metadata": {},
   "outputs": [
    {
     "data": {
      "text/plain": [
       "array([   2,   10,   18, 2475,   99])"
      ]
     },
     "execution_count": 27,
     "metadata": {},
     "output_type": "execute_result"
    }
   ],
   "source": [
    "# Multiplication of both array elements\n",
    "arr_1 * arr_2"
   ]
  },
  {
   "cell_type": "code",
   "execution_count": 30,
   "id": "8cb1dc10-e359-4aae-a7fe-5ccf0a9e4907",
   "metadata": {},
   "outputs": [
    {
     "data": {
      "text/plain": [
       "array([1.        , 1.41421356, 1.73205081, 6.70820393, 9.94987437])"
      ]
     },
     "execution_count": 30,
     "metadata": {},
     "output_type": "execute_result"
    }
   ],
   "source": [
    "# Find sq root of an array element\n",
    "np.sqrt(arr_1)"
   ]
  },
  {
   "cell_type": "code",
   "execution_count": 31,
   "id": "624e1283-ff7c-47e7-a136-dab7ac19e7c8",
   "metadata": {},
   "outputs": [
    {
     "data": {
      "text/plain": [
       "865"
      ]
     },
     "execution_count": 31,
     "metadata": {},
     "output_type": "execute_result"
    }
   ],
   "source": [
    "# Some basic aggrigation functions in NumPy - np.sum(), np.min(), np.max()\n",
    "one.sum()"
   ]
  },
  {
   "cell_type": "code",
   "execution_count": 35,
   "id": "67b62782-f9ac-4e7c-858e-d6e83bcf5c32",
   "metadata": {},
   "outputs": [
    {
     "data": {
      "text/plain": [
       "array([[1, 2, 3],\n",
       "       [4, 5, 6],\n",
       "       [7, 1, 0]])"
      ]
     },
     "execution_count": 35,
     "metadata": {},
     "output_type": "execute_result"
    }
   ],
   "source": [
    "# Find element in array\n",
    "arr"
   ]
  },
  {
   "cell_type": "code",
   "execution_count": 39,
   "id": "85653472-f3c1-4bd8-a2e0-3513e546cbf1",
   "metadata": {},
   "outputs": [
    {
     "data": {
      "text/plain": [
       "(array([1, 2]), array([2, 0]))"
      ]
     },
     "execution_count": 39,
     "metadata": {},
     "output_type": "execute_result"
    }
   ],
   "source": [
    "np.where(arr > 5)"
   ]
  },
  {
   "cell_type": "code",
   "execution_count": 42,
   "id": "374d6a98-b7f1-426b-ae63-2af11b39aaaf",
   "metadata": {},
   "outputs": [
    {
     "data": {
      "text/plain": [
       "8"
      ]
     },
     "execution_count": 42,
     "metadata": {},
     "output_type": "execute_result"
    }
   ],
   "source": [
    "# Count Non Zero Element\n",
    "np.count_nonzero(arr)"
   ]
  },
  {
   "cell_type": "markdown",
   "id": "8ca28e6b-e83d-48cd-9de6-096cb8becf96",
   "metadata": {},
   "source": [
    "# Check the size of array in bytes (NumPy uses 3.5 times less storage)"
   ]
  },
  {
   "cell_type": "code",
   "execution_count": 43,
   "id": "e25e5e4a-58e6-40ab-935c-61c220ed5aba",
   "metadata": {},
   "outputs": [],
   "source": [
    "import sys"
   ]
  },
  {
   "cell_type": "code",
   "execution_count": 49,
   "id": "f71380f0-4a33-4a22-a5cb-591bf4bc1575",
   "metadata": {},
   "outputs": [],
   "source": [
    "py_arr = [1,2,4,57,7,9]\n",
    "np_arr = np.array([1,2,4,57,7,9])"
   ]
  },
  {
   "cell_type": "code",
   "execution_count": 50,
   "id": "cefa0fe0-e534-4aa6-9015-fe7be0a4ed33",
   "metadata": {},
   "outputs": [
    {
     "data": {
      "text/plain": [
       "168"
      ]
     },
     "execution_count": 50,
     "metadata": {},
     "output_type": "execute_result"
    }
   ],
   "source": [
    "# Size of python array in bytes\n",
    "sys.getsizeof(1) * len(py_arr)"
   ]
  },
  {
   "cell_type": "code",
   "execution_count": 51,
   "id": "3cf88475-1a22-45d2-9267-04aa9bcab0ac",
   "metadata": {},
   "outputs": [
    {
     "data": {
      "text/plain": [
       "48"
      ]
     },
     "execution_count": 51,
     "metadata": {},
     "output_type": "execute_result"
    }
   ],
   "source": [
    "# Size of numpy array in bytes\n",
    "np_arr.itemsize * np_arr.size"
   ]
  },
  {
   "cell_type": "code",
   "execution_count": null,
   "id": "7b35f65b-e3c3-47b0-8906-f3a43c82df6c",
   "metadata": {},
   "outputs": [],
   "source": []
  }
 ],
 "metadata": {
  "kernelspec": {
   "display_name": "Python 3 (ipykernel)",
   "language": "python",
   "name": "python3"
  },
  "language_info": {
   "codemirror_mode": {
    "name": "ipython",
    "version": 3
   },
   "file_extension": ".py",
   "mimetype": "text/x-python",
   "name": "python",
   "nbconvert_exporter": "python",
   "pygments_lexer": "ipython3",
   "version": "3.10.13"
  }
 },
 "nbformat": 4,
 "nbformat_minor": 5
}
